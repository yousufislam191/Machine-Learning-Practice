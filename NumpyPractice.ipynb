{
  "nbformat": 4,
  "nbformat_minor": 0,
  "metadata": {
    "colab": {
      "provenance": [],
      "authorship_tag": "ABX9TyNB6oag7byFc6n+p2U8wz95",
      "include_colab_link": true
    },
    "kernelspec": {
      "name": "python3",
      "display_name": "Python 3"
    },
    "language_info": {
      "name": "python"
    }
  },
  "cells": [
    {
      "cell_type": "markdown",
      "metadata": {
        "id": "view-in-github",
        "colab_type": "text"
      },
      "source": [
        "<a href=\"https://colab.research.google.com/github/yousufislam191/Machine-Learning-Practice/blob/main/NumpyPractice.ipynb\" target=\"_parent\"><img src=\"https://colab.research.google.com/assets/colab-badge.svg\" alt=\"Open In Colab\"/></a>"
      ]
    },
    {
      "cell_type": "markdown",
      "source": [
        "# Numpy Practice"
      ],
      "metadata": {
        "id": "ZGUgSjIzNwkG"
      }
    },
    {
      "cell_type": "code",
      "execution_count": null,
      "metadata": {
        "id": "51UcCvATNriT"
      },
      "outputs": [],
      "source": [
        "import numpy as np\n",
        "from time import process_time"
      ]
    },
    {
      "cell_type": "markdown",
      "source": [
        "### List vs Numpy - Time Taken"
      ],
      "metadata": {
        "id": "T3DfyHznQhD6"
      }
    },
    {
      "cell_type": "markdown",
      "source": [
        "### Time Taken by a List **10000 loop**"
      ],
      "metadata": {
        "id": "VCaXlGsRRS2_"
      }
    },
    {
      "cell_type": "code",
      "source": [
        "python_list = [i for i in range(10)]\n",
        "start_time = process_time()\n",
        "\n",
        "python_list = [i+5 for i in python_list]\n",
        "end_time = process_time()\n",
        "\n",
        "print(end_time - start_time)"
      ],
      "metadata": {
        "colab": {
          "base_uri": "https://localhost:8080/"
        },
        "id": "m6H5ZDxYQbTP",
        "outputId": "a645f5cf-2534-49e4-e0d9-31d00c035659"
      },
      "execution_count": null,
      "outputs": [
        {
          "output_type": "stream",
          "name": "stdout",
          "text": [
            "0.00011315999999972348\n"
          ]
        }
      ]
    },
    {
      "cell_type": "markdown",
      "source": [
        "### Time Taken by a Numpy for **10000 loop**"
      ],
      "metadata": {
        "id": "SpUiJzKGRXFN"
      }
    },
    {
      "cell_type": "code",
      "source": [
        "np_array = np.array([i for i in range(10000)])\n",
        "start_time = process_time()\n",
        "\n",
        "np_array += 5\n",
        "end_time = process_time()\n",
        "\n",
        "print(end_time - start_time)"
      ],
      "metadata": {
        "colab": {
          "base_uri": "https://localhost:8080/"
        },
        "id": "NHrSsUhpRajH",
        "outputId": "847cac4f-690b-43bd-9131-260f79fe929a"
      },
      "execution_count": null,
      "outputs": [
        {
          "output_type": "stream",
          "name": "stdout",
          "text": [
            "0.00011012999999948647\n"
          ]
        }
      ]
    },
    {
      "cell_type": "markdown",
      "source": [
        "### Create a numpy array with 3 rows and 4 columns where value will be zero"
      ],
      "metadata": {
        "id": "1yT7p8bCVL6M"
      }
    },
    {
      "cell_type": "code",
      "source": [
        "print(np.zeros((3, 4)))"
      ],
      "metadata": {
        "colab": {
          "base_uri": "https://localhost:8080/"
        },
        "id": "nHHayp4ZVXJ5",
        "outputId": "cd341426-0a3c-4401-f17a-92314cddbd5f"
      },
      "execution_count": null,
      "outputs": [
        {
          "output_type": "stream",
          "name": "stdout",
          "text": [
            "[[0. 0. 0. 0.]\n",
            " [0. 0. 0. 0.]\n",
            " [0. 0. 0. 0.]]\n"
          ]
        }
      ]
    },
    {
      "cell_type": "markdown",
      "source": [
        "### Create a numpy array with 3 rows and 4 columns where value will be one"
      ],
      "metadata": {
        "id": "hItASeEPVr6t"
      }
    },
    {
      "cell_type": "code",
      "source": [
        "print(np.ones((3, 4)))"
      ],
      "metadata": {
        "colab": {
          "base_uri": "https://localhost:8080/"
        },
        "id": "Y2tPeTBmVvHB",
        "outputId": "6c506d56-10a1-471e-89dc-82c46400de5c"
      },
      "execution_count": null,
      "outputs": [
        {
          "output_type": "stream",
          "name": "stdout",
          "text": [
            "[[1. 1. 1. 1.]\n",
            " [1. 1. 1. 1.]\n",
            " [1. 1. 1. 1.]]\n"
          ]
        }
      ]
    },
    {
      "cell_type": "markdown",
      "source": [
        "### Create a numpy array with 3 rows and 4 columns where value will be customized"
      ],
      "metadata": {
        "id": "2Q87uWJBV6Xg"
      }
    },
    {
      "cell_type": "code",
      "source": [
        "print(np.full((3, 4), 5))"
      ],
      "metadata": {
        "colab": {
          "base_uri": "https://localhost:8080/"
        },
        "id": "ru1ETAhpV9_J",
        "outputId": "e5567e5f-3a40-4564-e853-d4e28d730ea3"
      },
      "execution_count": null,
      "outputs": [
        {
          "output_type": "stream",
          "name": "stdout",
          "text": [
            "[[5 5 5 5]\n",
            " [5 5 5 5]\n",
            " [5 5 5 5]]\n"
          ]
        }
      ]
    },
    {
      "cell_type": "markdown",
      "source": [
        "### Create an Identity Metrix"
      ],
      "metadata": {
        "id": "oeSCnomAWK_r"
      }
    },
    {
      "cell_type": "code",
      "source": [
        "print(np.eye(4))"
      ],
      "metadata": {
        "colab": {
          "base_uri": "https://localhost:8080/"
        },
        "id": "mYkGtjSYWPVI",
        "outputId": "77bd30ea-36f3-44ff-91b3-a2dd7dbcab4e"
      },
      "execution_count": null,
      "outputs": [
        {
          "output_type": "stream",
          "name": "stdout",
          "text": [
            "[[1. 0. 0. 0.]\n",
            " [0. 1. 0. 0.]\n",
            " [0. 0. 1. 0.]\n",
            " [0. 0. 0. 1.]]\n"
          ]
        }
      ]
    },
    {
      "cell_type": "markdown",
      "source": [
        "### create a numpy array with random values"
      ],
      "metadata": {
        "id": "oJUJt7jnWezU"
      }
    },
    {
      "cell_type": "code",
      "source": [
        "print(np.random.random((3,4)))"
      ],
      "metadata": {
        "colab": {
          "base_uri": "https://localhost:8080/"
        },
        "id": "PjNmebLcWmOO",
        "outputId": "20bd2c60-5dfd-43c8-9bdb-373e41c48758"
      },
      "execution_count": null,
      "outputs": [
        {
          "output_type": "stream",
          "name": "stdout",
          "text": [
            "[[0.8692405  0.11047004 0.31403077 0.02645157]\n",
            " [0.07027164 0.77127344 0.18348194 0.81043174]\n",
            " [0.02379441 0.87215181 0.92882569 0.04877942]]\n"
          ]
        }
      ]
    },
    {
      "cell_type": "markdown",
      "source": [
        "### numpy random integer value array within a specific range 5 to 12"
      ],
      "metadata": {
        "id": "-lsnZiVhW1En"
      }
    },
    {
      "cell_type": "code",
      "source": [
        "print(np.random.randint(5, 12, (3,4)))"
      ],
      "metadata": {
        "colab": {
          "base_uri": "https://localhost:8080/"
        },
        "id": "NL9H-0GeW9EX",
        "outputId": "09f71b07-d32a-4c71-fce5-c72d52a6443b"
      },
      "execution_count": null,
      "outputs": [
        {
          "output_type": "stream",
          "name": "stdout",
          "text": [
            "[[ 9 10 10  9]\n",
            " [ 7  7 10  5]\n",
            " [ 7  9  7  6]]\n"
          ]
        }
      ]
    },
    {
      "cell_type": "markdown",
      "source": [
        "### array of evenly spaced values\n",
        "specifying the number of values required"
      ],
      "metadata": {
        "id": "DwgOup2tXTYb"
      }
    },
    {
      "cell_type": "code",
      "source": [
        "print(np.linspace(10, 40, 7))"
      ],
      "metadata": {
        "colab": {
          "base_uri": "https://localhost:8080/"
        },
        "id": "Zipk9fzHXjtl",
        "outputId": "cb3a0416-b34c-4503-fedc-6baa97ec60e2"
      },
      "execution_count": null,
      "outputs": [
        {
          "output_type": "stream",
          "name": "stdout",
          "text": [
            "[10. 15. 20. 25. 30. 35. 40.]\n"
          ]
        }
      ]
    },
    {
      "cell_type": "markdown",
      "source": [
        "### array of evenly spaced values\n",
        "specifying the step"
      ],
      "metadata": {
        "id": "XhBeAK1HZKUv"
      }
    },
    {
      "cell_type": "code",
      "source": [
        "print(np.arange(10, 40, 7))"
      ],
      "metadata": {
        "colab": {
          "base_uri": "https://localhost:8080/"
        },
        "id": "lRjcCgYnZOyh",
        "outputId": "ff555225-5e67-41c7-ed51-6a334e1f72d8"
      },
      "execution_count": null,
      "outputs": [
        {
          "output_type": "stream",
          "name": "stdout",
          "text": [
            "[10 17 24 31 38]\n"
          ]
        }
      ]
    },
    {
      "cell_type": "markdown",
      "source": [
        "### convert a list to numpy array"
      ],
      "metadata": {
        "id": "NrmNEIo-ZaBq"
      }
    },
    {
      "cell_type": "code",
      "source": [
        "list1 = [10, 20, 30, 40, 50]\n",
        "first_type = type(list1)\n",
        "print(\"First Print: \", list1, first_type)\n",
        "\n",
        "np_array = np.array(list1)\n",
        "second_type = type(np_array)\n",
        "print(\"Second Print: \", np_array, second_type)"
      ],
      "metadata": {
        "colab": {
          "base_uri": "https://localhost:8080/"
        },
        "id": "rRKZr_qrZeK3",
        "outputId": "f4728ede-db0d-485a-9361-f27a32c37ed8"
      },
      "execution_count": null,
      "outputs": [
        {
          "output_type": "stream",
          "name": "stdout",
          "text": [
            "First Print:  [10, 20, 30, 40, 50] <class 'list'>\n",
            "Second Print:  [10 20 30 40 50] <class 'numpy.ndarray'>\n"
          ]
        }
      ]
    },
    {
      "cell_type": "markdown",
      "source": [
        "### Analysing a numpy array"
      ],
      "metadata": {
        "id": "DehtjkGzbUTA"
      }
    },
    {
      "cell_type": "code",
      "source": [
        "c = np.random.randint(10, 90, (5,5))\n",
        "print(c)"
      ],
      "metadata": {
        "colab": {
          "base_uri": "https://localhost:8080/"
        },
        "id": "-sH1TBjxbZ_y",
        "outputId": "eda39c6c-061b-4eef-c11f-d976d73c8212"
      },
      "execution_count": null,
      "outputs": [
        {
          "output_type": "stream",
          "name": "stdout",
          "text": [
            "[[43 68 43 57 35]\n",
            " [26 59 35 75 36]\n",
            " [36 68 52 24 62]\n",
            " [63 18 72 13 64]\n",
            " [19 89 78 63 24]]\n"
          ]
        }
      ]
    },
    {
      "cell_type": "code",
      "source": [
        "# array dimention\n",
        "print(c.shape)"
      ],
      "metadata": {
        "colab": {
          "base_uri": "https://localhost:8080/"
        },
        "id": "FhXa9dacbk0P",
        "outputId": "fef77c7f-9aa5-4f2b-d51d-2c43ca7028ee"
      },
      "execution_count": null,
      "outputs": [
        {
          "output_type": "stream",
          "name": "stdout",
          "text": [
            "(5, 5)\n"
          ]
        }
      ]
    },
    {
      "cell_type": "code",
      "source": [
        "# number of dimention\n",
        "print(c.ndim)"
      ],
      "metadata": {
        "colab": {
          "base_uri": "https://localhost:8080/"
        },
        "id": "_csgNKx-bn-K",
        "outputId": "fd012e04-e6db-4494-bd3d-2f2a9cdd99ed"
      },
      "execution_count": null,
      "outputs": [
        {
          "output_type": "stream",
          "name": "stdout",
          "text": [
            "2\n"
          ]
        }
      ]
    },
    {
      "cell_type": "code",
      "source": [
        "# number of element in an array\n",
        "print(c.size)"
      ],
      "metadata": {
        "colab": {
          "base_uri": "https://localhost:8080/"
        },
        "id": "2L3ZO3b3b2Kq",
        "outputId": "0d8b94d5-3b84-472b-cbc8-1d7e4ecef5d0"
      },
      "execution_count": null,
      "outputs": [
        {
          "output_type": "stream",
          "name": "stdout",
          "text": [
            "25\n"
          ]
        }
      ]
    },
    {
      "cell_type": "code",
      "source": [
        "# checking the type of the values in the array\n",
        "print(c.dtype)"
      ],
      "metadata": {
        "colab": {
          "base_uri": "https://localhost:8080/"
        },
        "id": "oJRJ0o2Kb-oZ",
        "outputId": "56ae1ec4-8a65-4a99-8ff7-338d10cc44c1"
      },
      "execution_count": null,
      "outputs": [
        {
          "output_type": "stream",
          "name": "stdout",
          "text": [
            "int64\n"
          ]
        }
      ]
    },
    {
      "cell_type": "markdown",
      "source": [
        "### Mathematical Operations on a numpy array"
      ],
      "metadata": {
        "id": "aVAimjGzsRea"
      }
    },
    {
      "cell_type": "code",
      "source": [
        "list1 = [1,2,3,4,5]\n",
        "list2 = [6,7,8,9,10]\n",
        "print(list1 + list2) # it will concatinate this list"
      ],
      "metadata": {
        "colab": {
          "base_uri": "https://localhost:8080/"
        },
        "id": "Scw4fy1bsbGl",
        "outputId": "fc84e9ab-327b-4f3c-bafa-02182689dbb2"
      },
      "execution_count": 39,
      "outputs": [
        {
          "output_type": "stream",
          "name": "stdout",
          "text": [
            "[1, 2, 3, 4, 5, 6, 7, 8, 9, 10]\n"
          ]
        }
      ]
    },
    {
      "cell_type": "code",
      "source": [
        "a = np.random.randint(1,10, (4,4))\n",
        "print(\"Arrary of A: \\n\", a)\n",
        "\n",
        "b = np.random.randint(20,30, (4,4))\n",
        "print(\"\\nArrary of B: \\n\", b)\n",
        "\n",
        "# print(\"\\nArrary of Addition: \\n\", a+b)\n",
        "# print(\"\\nArrary of Substraction: \\n\", a-b)\n",
        "# print(\"\\nArrary of Multiplication: \\n\", a*b)\n",
        "# print(\"\\nArrary of Divition: \\n\", a/b)\n",
        "\n",
        "print(\"\\nArrary of Addition: \\n\", np.add(a,b))\n",
        "print(\"\\nArrary of Substraction: \\n\", np.subtract(a,b))\n",
        "print(\"\\nArrary of Multiplication: \\n\", np.multiply(a,b))\n",
        "print(\"\\nArrary of Divition: \\n\", np.divide(a,b))"
      ],
      "metadata": {
        "colab": {
          "base_uri": "https://localhost:8080/"
        },
        "id": "wgsLDOb-so0x",
        "outputId": "fdf767ef-deb5-44a3-e40a-4b312b3cc525"
      },
      "execution_count": 48,
      "outputs": [
        {
          "output_type": "stream",
          "name": "stdout",
          "text": [
            "Arrary of A: \n",
            " [[2 4 5 5]\n",
            " [6 2 1 7]\n",
            " [5 3 1 2]\n",
            " [3 7 2 5]]\n",
            "\n",
            "Arrary of B: \n",
            " [[23 24 25 29]\n",
            " [25 24 29 27]\n",
            " [23 29 23 21]\n",
            " [21 24 26 27]]\n",
            "\n",
            "Arrary of Addition: \n",
            " [[25 28 30 34]\n",
            " [31 26 30 34]\n",
            " [28 32 24 23]\n",
            " [24 31 28 32]]\n",
            "\n",
            "Arrary of Substraction: \n",
            " [[-21 -20 -20 -24]\n",
            " [-19 -22 -28 -20]\n",
            " [-18 -26 -22 -19]\n",
            " [-18 -17 -24 -22]]\n",
            "\n",
            "Arrary of Multiplication: \n",
            " [[ 46  96 125 145]\n",
            " [150  48  29 189]\n",
            " [115  87  23  42]\n",
            " [ 63 168  52 135]]\n",
            "\n",
            "Arrary of Divition: \n",
            " [[0.08695652 0.16666667 0.2        0.17241379]\n",
            " [0.24       0.08333333 0.03448276 0.25925926]\n",
            " [0.2173913  0.10344828 0.04347826 0.0952381 ]\n",
            " [0.14285714 0.29166667 0.07692308 0.18518519]]\n"
          ]
        }
      ]
    },
    {
      "cell_type": "markdown",
      "source": [
        "### Array Manipulation"
      ],
      "metadata": {
        "id": "Dh4Ie-GNvZsC"
      }
    },
    {
      "cell_type": "code",
      "source": [
        "a = np.random.randint(1,10, (2,3))\n",
        "print(a)\n",
        "print(a.shape)\n",
        "\n",
        "# tranpose the a matrix\n",
        "print(\"\\n Transpose Matrix:\\n\", np.transpose(a))\n",
        "print(\"\\n Transpose Matrix using T:\\n\", a.T)"
      ],
      "metadata": {
        "colab": {
          "base_uri": "https://localhost:8080/"
        },
        "id": "JpRguFPEvc9e",
        "outputId": "3bcf2199-97e9-40eb-b90e-25a0524fb519"
      },
      "execution_count": 53,
      "outputs": [
        {
          "output_type": "stream",
          "name": "stdout",
          "text": [
            "[[4 2 4]\n",
            " [3 8 7]]\n",
            "(2, 3)\n",
            "\n",
            " Transpose Matrix:\n",
            " [[4 3]\n",
            " [2 8]\n",
            " [4 7]]\n",
            "\n",
            " Transpose Matrix using T:\n",
            " [[4 3]\n",
            " [2 8]\n",
            " [4 7]]\n"
          ]
        }
      ]
    },
    {
      "cell_type": "code",
      "source": [
        "# reshape matrix\n",
        "array = np.random.randint(1,10, (2,3))\n",
        "print(\"\\n Main Matrix:\\n\", array)\n",
        "print(\"\\n Reshape Matrix:\\n\", array.reshape(3,2))"
      ],
      "metadata": {
        "colab": {
          "base_uri": "https://localhost:8080/"
        },
        "id": "FE24qXCdwi1s",
        "outputId": "bbc33908-d0e2-49bb-c31a-7bc8ba0f4671"
      },
      "execution_count": 55,
      "outputs": [
        {
          "output_type": "stream",
          "name": "stdout",
          "text": [
            "\n",
            " Main Matrix:\n",
            " [[3 2 1]\n",
            " [7 1 1]]\n",
            "\n",
            " Reshape Matrix:\n",
            " [[3 2]\n",
            " [1 7]\n",
            " [1 1]]\n"
          ]
        }
      ]
    }
  ]
}
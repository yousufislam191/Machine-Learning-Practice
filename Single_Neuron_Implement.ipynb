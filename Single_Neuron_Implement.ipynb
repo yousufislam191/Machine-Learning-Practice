{
  "nbformat": 4,
  "nbformat_minor": 0,
  "metadata": {
    "colab": {
      "provenance": [],
      "authorship_tag": "ABX9TyNsix4qRtRJN4c6mG+6FxY+",
      "include_colab_link": true
    },
    "kernelspec": {
      "name": "python3",
      "display_name": "Python 3"
    },
    "language_info": {
      "name": "python"
    }
  },
  "cells": [
    {
      "cell_type": "markdown",
      "metadata": {
        "id": "view-in-github",
        "colab_type": "text"
      },
      "source": [
        "<a href=\"https://colab.research.google.com/github/yousufislam191/Machine-Learning-Practice/blob/main/Single_Neuron_Implement.ipynb\" target=\"_parent\"><img src=\"https://colab.research.google.com/assets/colab-badge.svg\" alt=\"Open In Colab\"/></a>"
      ]
    },
    {
      "cell_type": "markdown",
      "source": [
        "# Single Neuron Implement"
      ],
      "metadata": {
        "id": "8m4CEEu2wGBm"
      }
    },
    {
      "cell_type": "markdown",
      "source": [
        "Define Feedforward Network"
      ],
      "metadata": {
        "id": "pmH0rjU1yUWx"
      }
    },
    {
      "cell_type": "code",
      "source": [
        "def feedforward(weights, bias, inputs):\n",
        "  total = sum([w * i for w, i in zip(weights, inputs)]) + bias\n",
        "  print(f\"Output of the neuron for inputs {inputs}, weights {weights} and {bias} is = {total}\")\n",
        "  return sigmoid(total)"
      ],
      "metadata": {
        "id": "qrMPpL_jyKqN"
      },
      "execution_count": 19,
      "outputs": []
    },
    {
      "cell_type": "markdown",
      "source": [
        "Define Activation Function"
      ],
      "metadata": {
        "id": "hEu7koW9yGCp"
      }
    },
    {
      "cell_type": "code",
      "source": [
        "import math\n",
        "def sigmoid(z):\n",
        "  output = 1 / (1 + math.exp(-z))\n",
        "  print(\"Output of sigmoid: \", output)\n",
        "  return classify(output)"
      ],
      "metadata": {
        "id": "N4uJHvpJx5jx"
      },
      "execution_count": 20,
      "outputs": []
    },
    {
      "cell_type": "markdown",
      "source": [
        "Converts the sigmoid output to a class label. If the sigmoid value is **grater than or equal 0.5** then the classify function will returns the value **1** otherwise will returns **0**"
      ],
      "metadata": {
        "id": "OifWr08m1LTS"
      }
    },
    {
      "cell_type": "code",
      "source": [
        "def classify(prediction):\n",
        "  if prediction >= 0.5:\n",
        "    return 1\n",
        "  else:\n",
        "    return 0"
      ],
      "metadata": {
        "id": "RdCl6uLW0sQM"
      },
      "execution_count": 21,
      "outputs": []
    },
    {
      "cell_type": "markdown",
      "source": [
        "Calculate the output of the neuron using the **Feedforward** function.\n",
        "\n",
        "\n",
        "\n"
      ],
      "metadata": {
        "id": "EdESO_Wc3n-M"
      }
    },
    {
      "cell_type": "code",
      "source": [
        "weights = [0, 1]\n",
        "bias = 0.5\n",
        "\n",
        "inputs = [2, 3]\n",
        "\n",
        "prediction = feedforward(weights, bias, inputs)\n",
        "print(\"Output of the single neuron: \", prediction)"
      ],
      "metadata": {
        "colab": {
          "base_uri": "https://localhost:8080/"
        },
        "id": "Fq03kK1e1JQr",
        "outputId": "c6a7b34a-026c-4cc4-eac4-ed3511c86926"
      },
      "execution_count": 22,
      "outputs": [
        {
          "output_type": "stream",
          "name": "stdout",
          "text": [
            "Output of the neuron for inputs [2, 3], weights [0, 1] and 0.5 is = 3.5\n",
            "Output of sigmoid:  0.9706877692486436\n",
            "Output of the single neuron:  1\n"
          ]
        }
      ]
    },
    {
      "cell_type": "code",
      "source": [],
      "metadata": {
        "id": "oLX7fnan4jdK"
      },
      "execution_count": 22,
      "outputs": []
    }
  ]
}